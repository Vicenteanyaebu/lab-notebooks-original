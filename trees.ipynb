{
  "nbformat": 4,
  "nbformat_minor": 0,
  "metadata": {
    "colab": {
      "provenance": [],
      "include_colab_link": true
    },
    "kernelspec": {
      "name": "python3",
      "display_name": "Python 3"
    },
    "language_info": {
      "name": "python"
    }
  },
  "cells": [
    {
      "cell_type": "markdown",
      "metadata": {
        "id": "view-in-github",
        "colab_type": "text"
      },
      "source": [
        "<a href=\"https://colab.research.google.com/github/Vicenteanyaebu/lab-notebooks-original/blob/main/trees.ipynb\" target=\"_parent\"><img src=\"https://colab.research.google.com/assets/colab-badge.svg\" alt=\"Open In Colab\"/></a>"
      ]
    },
    {
      "cell_type": "code",
      "source": [],
      "metadata": {
        "id": "bppL6u6QdQW1"
      },
      "execution_count": null,
      "outputs": []
    },
    {
      "cell_type": "markdown",
      "source": [
        "\n",
        "\n",
        "* Each tree has a **root** node\n",
        "* The root node has zero or more child nodes\n",
        "* Each child node has zero or more child nodes\n",
        "* and so on\n",
        "\n"
      ],
      "metadata": {
        "id": "E-Dyk4S35gXj"
      }
    },
    {
      "cell_type": "code",
      "execution_count": null,
      "metadata": {
        "id": "9QqfOIVF5XnY"
      },
      "outputs": [],
      "source": [
        "class TreeNode:\n",
        "    def __init__(self, val):\n",
        "        self.val = val\n",
        "        self.children = []\n",
        "\n",
        "class Tree:\n",
        "    def __init__(self):\n",
        "        self.root: TreeNode = None"
      ]
    },
    {
      "cell_type": "code",
      "source": [
        "class BinaryTreeNode:\n",
        "    def __init__(self, val):\n",
        "        self.val = val\n",
        "        self.left: BinaryTreeNode = None\n",
        "        self.right: BinaryTreeNode = None"
      ],
      "metadata": {
        "id": "esgHAo0MVNFv"
      },
      "execution_count": null,
      "outputs": []
    },
    {
      "cell_type": "code",
      "source": [
        "class BinaryTree:\n",
        "    def __init__(self):\n",
        "        root: BinaryTreeNode = None\n",
        "\n",
        "    def preorderPrint(self, n: BinaryTreeNode):\n",
        "\n",
        "        if n == None:\n",
        "            return\n",
        "\n",
        "        print(n.val)\n",
        "        self.preorderPrint(n.left)\n",
        "        self.preorderPrint(n.right)\n",
        "\n",
        "    def postorderPrint(self, n: BinaryTreeNode):\n",
        "\n",
        "        if n == None:\n",
        "            return\n",
        "\n",
        "        self.postorderPrint(n.left)\n",
        "        self.postorderPrint(n.right)\n",
        "        print(n.val)\n"
      ],
      "metadata": {
        "id": "eMXEdpB68Q8h"
      },
      "execution_count": null,
      "outputs": []
    },
    {
      "cell_type": "code",
      "source": [
        "class BinarySearchTree:\n",
        "    def __init__(self):\n",
        "        root: BinaryTreeNode = None\n",
        "\n",
        "    def __str__(self) -> str:\n",
        "        pass\n",
        "\n",
        "    def addValue(self, toAdd):\n",
        "        if self.root is None:\n",
        "            self.root = BinaryTreeNode(toAdd)\n",
        "\n",
        "        self.helpAddValue(self.root, toAdd)\n",
        "\n",
        "    def helpAddValue(self, current: BinaryTreeNode, toAdd):\n",
        "        # found duplicate\n",
        "        if current.val == toAdd:\n",
        "            return\n",
        "\n",
        "        # current is greater than toAdd, put toAdd in left subtree\n",
        "        # toAdd is less than current, put toAdd in left subtree\n",
        "        elif toAdd < current.val:\n",
        "            if current.left is not None:\n",
        "                self.helpAddValue(current.left, toAdd)\n",
        "            else:\n",
        "                current.left = BinaryTreeNode(toAdd)\n",
        "\n",
        "        # current is less than toAdd, put toAdd in right subtree\n",
        "        # toAdd is greater than current, put toAdd in right subtree\n",
        "        else:\n",
        "            ...\n",
        "\n",
        "    # iterative option\n",
        "    def findValue(self, target):\n",
        "        current = self.root\n",
        "\n",
        "        while current is not None and current.val is not target:\n",
        "            if target < current.val:\n",
        "                current = current.left\n",
        "            else:\n",
        "                current = current.right\n",
        "\n",
        "        return current\n",
        "\n",
        "    # recursive option\n",
        "    def search(self, target) -> BinaryTreeNode:\n",
        "        return self.helpSearch(self.root, target)\n",
        "\n",
        "    def helpSearch(self, current: BinaryTreeNode, target) -> BinaryTreeNode:\n",
        "        if current is None:\n",
        "            return None\n",
        "\n",
        "        # found target\n",
        "        elif current.val == target:\n",
        "            return current\n",
        "\n",
        "        # current is greater than target, search left subtree\n",
        "        elif target < current.val:\n",
        "            self.helpSearch(current.left, target)\n",
        "\n",
        "        # current is less than target, search right subtree\n",
        "        else:\n",
        "            self.helpSearch(current.right, target)"
      ],
      "metadata": {
        "id": "aXFVppKM86AF"
      },
      "execution_count": null,
      "outputs": []
    },
    {
      "cell_type": "code",
      "source": [
        "my_BST = BinarySearchTree()\n",
        "\n",
        "# set up and test your BST using add, remove, search methods\n",
        "# and assert statements\n",
        "my_BST.addValue(50)\n",
        "...\n",
        "assert(my_BST.search(50)) # discuss: why does this work?\n",
        "..."
      ],
      "metadata": {
        "id": "ApdBHR9S7yBk",
        "colab": {
          "base_uri": "https://localhost:8080/"
        },
        "outputId": "60c69e1b-e923-4474-ec87-72c74ba4dac5"
      },
      "execution_count": null,
      "outputs": [
        {
          "output_type": "execute_result",
          "data": {
            "text/plain": [
              "Ellipsis"
            ]
          },
          "metadata": {},
          "execution_count": 6
        }
      ]
    },
    {
      "cell_type": "code",
      "source": [
        "a = \"apple\"\n",
        "a"
      ],
      "metadata": {
        "colab": {
          "base_uri": "https://localhost:8080/",
          "height": 36
        },
        "id": "zcjXDBZOuuDZ",
        "outputId": "ca8921ce-7313-47ac-c7a7-4d1b4bf4bcca"
      },
      "execution_count": null,
      "outputs": [
        {
          "output_type": "execute_result",
          "data": {
            "text/plain": [
              "'apple'"
            ],
            "application/vnd.google.colaboratory.intrinsic+json": {
              "type": "string"
            }
          },
          "metadata": {},
          "execution_count": 8
        }
      ]
    },
    {
      "cell_type": "code",
      "source": [
        "def validate(current: BinaryTreeNode, low, high) -> bool:\n",
        "  # reached the end of a subtree without returning False\n",
        "  ...\n",
        "\n",
        "  # if current node's value is out of correct range, return False\n",
        "  ...\n",
        "\n",
        "  # return True if left and right subtrees are both valid, False otherwise\n",
        "  return validate(...) and validate(...)"
      ],
      "metadata": {
        "id": "HbaIxED1BWJG"
      },
      "execution_count": null,
      "outputs": []
    },
    {
      "cell_type": "code",
      "source": [
        "validate(my_BST.root, -inf, inf)"
      ],
      "metadata": {
        "id": "g1sqGA8pjnyM"
      },
      "execution_count": null,
      "outputs": []
    }
  ]
}